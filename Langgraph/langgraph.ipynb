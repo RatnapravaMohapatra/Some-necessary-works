{
  "nbformat": 4,
  "nbformat_minor": 0,
  "metadata": {
    "colab": {
      "provenance": [],
      "gpuType": "T4"
    },
    "kernelspec": {
      "name": "python3",
      "display_name": "Python 3"
    },
    "language_info": {
      "name": "python"
    },
    "accelerator": "GPU"
  },
  "cells": [
    {
      "cell_type": "code",
      "execution_count": 1,
      "metadata": {
        "colab": {
          "base_uri": "https://localhost:8080/",
          "height": 0
        },
        "id": "VejGsJaX5jay",
        "outputId": "32363907-f087-4088-be61-e3ddb039cfa1"
      },
      "outputs": [
        {
          "output_type": "stream",
          "name": "stdout",
          "text": [
            "Collecting langgraph\n",
            "  Downloading langgraph-0.4.7-py3-none-any.whl.metadata (6.8 kB)\n",
            "Requirement already satisfied: langsmith in /usr/local/lib/python3.11/dist-packages (0.3.42)\n",
            "Collecting langchain_groq\n",
            "  Downloading langchain_groq-0.3.2-py3-none-any.whl.metadata (2.6 kB)\n",
            "Collecting langchain_community\n",
            "  Downloading langchain_community-0.3.24-py3-none-any.whl.metadata (2.5 kB)\n",
            "Requirement already satisfied: langchain-core>=0.1 in /usr/local/lib/python3.11/dist-packages (from langgraph) (0.3.60)\n",
            "Collecting langgraph-checkpoint>=2.0.26 (from langgraph)\n",
            "  Downloading langgraph_checkpoint-2.0.26-py3-none-any.whl.metadata (4.6 kB)\n",
            "Collecting langgraph-prebuilt>=0.2.0 (from langgraph)\n",
            "  Downloading langgraph_prebuilt-0.2.2-py3-none-any.whl.metadata (4.5 kB)\n",
            "Collecting langgraph-sdk>=0.1.42 (from langgraph)\n",
            "  Downloading langgraph_sdk-0.1.70-py3-none-any.whl.metadata (1.5 kB)\n",
            "Requirement already satisfied: pydantic>=2.7.4 in /usr/local/lib/python3.11/dist-packages (from langgraph) (2.11.4)\n",
            "Requirement already satisfied: xxhash>=3.5.0 in /usr/local/lib/python3.11/dist-packages (from langgraph) (3.5.0)\n",
            "Requirement already satisfied: httpx<1,>=0.23.0 in /usr/local/lib/python3.11/dist-packages (from langsmith) (0.28.1)\n",
            "Requirement already satisfied: orjson<4.0.0,>=3.9.14 in /usr/local/lib/python3.11/dist-packages (from langsmith) (3.10.18)\n",
            "Requirement already satisfied: packaging>=23.2 in /usr/local/lib/python3.11/dist-packages (from langsmith) (24.2)\n",
            "Requirement already satisfied: requests<3,>=2 in /usr/local/lib/python3.11/dist-packages (from langsmith) (2.32.3)\n",
            "Requirement already satisfied: requests-toolbelt<2.0.0,>=1.0.0 in /usr/local/lib/python3.11/dist-packages (from langsmith) (1.0.0)\n",
            "Requirement already satisfied: zstandard<0.24.0,>=0.23.0 in /usr/local/lib/python3.11/dist-packages (from langsmith) (0.23.0)\n",
            "Collecting groq<1,>=0.4.1 (from langchain_groq)\n",
            "  Downloading groq-0.26.0-py3-none-any.whl.metadata (15 kB)\n",
            "Requirement already satisfied: langchain<1.0.0,>=0.3.25 in /usr/local/lib/python3.11/dist-packages (from langchain_community) (0.3.25)\n",
            "Requirement already satisfied: SQLAlchemy<3,>=1.4 in /usr/local/lib/python3.11/dist-packages (from langchain_community) (2.0.41)\n",
            "Requirement already satisfied: PyYAML>=5.3 in /usr/local/lib/python3.11/dist-packages (from langchain_community) (6.0.2)\n",
            "Requirement already satisfied: aiohttp<4.0.0,>=3.8.3 in /usr/local/lib/python3.11/dist-packages (from langchain_community) (3.11.15)\n",
            "Requirement already satisfied: tenacity!=8.4.0,<10,>=8.1.0 in /usr/local/lib/python3.11/dist-packages (from langchain_community) (9.1.2)\n",
            "Collecting dataclasses-json<0.7,>=0.5.7 (from langchain_community)\n",
            "  Downloading dataclasses_json-0.6.7-py3-none-any.whl.metadata (25 kB)\n",
            "Collecting pydantic-settings<3.0.0,>=2.4.0 (from langchain_community)\n",
            "  Downloading pydantic_settings-2.9.1-py3-none-any.whl.metadata (3.8 kB)\n",
            "Collecting httpx-sse<1.0.0,>=0.4.0 (from langchain_community)\n",
            "  Downloading httpx_sse-0.4.0-py3-none-any.whl.metadata (9.0 kB)\n",
            "Requirement already satisfied: numpy>=1.26.2 in /usr/local/lib/python3.11/dist-packages (from langchain_community) (2.0.2)\n",
            "Requirement already satisfied: aiohappyeyeballs>=2.3.0 in /usr/local/lib/python3.11/dist-packages (from aiohttp<4.0.0,>=3.8.3->langchain_community) (2.6.1)\n",
            "Requirement already satisfied: aiosignal>=1.1.2 in /usr/local/lib/python3.11/dist-packages (from aiohttp<4.0.0,>=3.8.3->langchain_community) (1.3.2)\n",
            "Requirement already satisfied: attrs>=17.3.0 in /usr/local/lib/python3.11/dist-packages (from aiohttp<4.0.0,>=3.8.3->langchain_community) (25.3.0)\n",
            "Requirement already satisfied: frozenlist>=1.1.1 in /usr/local/lib/python3.11/dist-packages (from aiohttp<4.0.0,>=3.8.3->langchain_community) (1.6.0)\n",
            "Requirement already satisfied: multidict<7.0,>=4.5 in /usr/local/lib/python3.11/dist-packages (from aiohttp<4.0.0,>=3.8.3->langchain_community) (6.4.4)\n",
            "Requirement already satisfied: propcache>=0.2.0 in /usr/local/lib/python3.11/dist-packages (from aiohttp<4.0.0,>=3.8.3->langchain_community) (0.3.1)\n",
            "Requirement already satisfied: yarl<2.0,>=1.17.0 in /usr/local/lib/python3.11/dist-packages (from aiohttp<4.0.0,>=3.8.3->langchain_community) (1.20.0)\n",
            "Collecting marshmallow<4.0.0,>=3.18.0 (from dataclasses-json<0.7,>=0.5.7->langchain_community)\n",
            "  Downloading marshmallow-3.26.1-py3-none-any.whl.metadata (7.3 kB)\n",
            "Collecting typing-inspect<1,>=0.4.0 (from dataclasses-json<0.7,>=0.5.7->langchain_community)\n",
            "  Downloading typing_inspect-0.9.0-py3-none-any.whl.metadata (1.5 kB)\n",
            "Requirement already satisfied: anyio<5,>=3.5.0 in /usr/local/lib/python3.11/dist-packages (from groq<1,>=0.4.1->langchain_groq) (4.9.0)\n",
            "Requirement already satisfied: distro<2,>=1.7.0 in /usr/local/lib/python3.11/dist-packages (from groq<1,>=0.4.1->langchain_groq) (1.9.0)\n",
            "Requirement already satisfied: sniffio in /usr/local/lib/python3.11/dist-packages (from groq<1,>=0.4.1->langchain_groq) (1.3.1)\n",
            "Requirement already satisfied: typing-extensions<5,>=4.10 in /usr/local/lib/python3.11/dist-packages (from groq<1,>=0.4.1->langchain_groq) (4.13.2)\n",
            "Requirement already satisfied: certifi in /usr/local/lib/python3.11/dist-packages (from httpx<1,>=0.23.0->langsmith) (2025.4.26)\n",
            "Requirement already satisfied: httpcore==1.* in /usr/local/lib/python3.11/dist-packages (from httpx<1,>=0.23.0->langsmith) (1.0.9)\n",
            "Requirement already satisfied: idna in /usr/local/lib/python3.11/dist-packages (from httpx<1,>=0.23.0->langsmith) (3.10)\n",
            "Requirement already satisfied: h11>=0.16 in /usr/local/lib/python3.11/dist-packages (from httpcore==1.*->httpx<1,>=0.23.0->langsmith) (0.16.0)\n",
            "Requirement already satisfied: langchain-text-splitters<1.0.0,>=0.3.8 in /usr/local/lib/python3.11/dist-packages (from langchain<1.0.0,>=0.3.25->langchain_community) (0.3.8)\n",
            "Requirement already satisfied: jsonpatch<2.0,>=1.33 in /usr/local/lib/python3.11/dist-packages (from langchain-core>=0.1->langgraph) (1.33)\n",
            "Collecting ormsgpack<2.0.0,>=1.8.0 (from langgraph-checkpoint>=2.0.26->langgraph)\n",
            "  Downloading ormsgpack-1.10.0-cp311-cp311-manylinux_2_17_x86_64.manylinux2014_x86_64.whl.metadata (43 kB)\n",
            "\u001b[2K     \u001b[90m━━━━━━━━━━━━━━━━━━━━━━━━━━━━━━━━━━━━━━━━\u001b[0m \u001b[32m43.7/43.7 kB\u001b[0m \u001b[31m3.8 MB/s\u001b[0m eta \u001b[36m0:00:00\u001b[0m\n",
            "\u001b[?25hRequirement already satisfied: annotated-types>=0.6.0 in /usr/local/lib/python3.11/dist-packages (from pydantic>=2.7.4->langgraph) (0.7.0)\n",
            "Requirement already satisfied: pydantic-core==2.33.2 in /usr/local/lib/python3.11/dist-packages (from pydantic>=2.7.4->langgraph) (2.33.2)\n",
            "Requirement already satisfied: typing-inspection>=0.4.0 in /usr/local/lib/python3.11/dist-packages (from pydantic>=2.7.4->langgraph) (0.4.1)\n",
            "Collecting python-dotenv>=0.21.0 (from pydantic-settings<3.0.0,>=2.4.0->langchain_community)\n",
            "  Downloading python_dotenv-1.1.0-py3-none-any.whl.metadata (24 kB)\n",
            "Requirement already satisfied: charset-normalizer<4,>=2 in /usr/local/lib/python3.11/dist-packages (from requests<3,>=2->langsmith) (3.4.2)\n",
            "Requirement already satisfied: urllib3<3,>=1.21.1 in /usr/local/lib/python3.11/dist-packages (from requests<3,>=2->langsmith) (2.4.0)\n",
            "Requirement already satisfied: greenlet>=1 in /usr/local/lib/python3.11/dist-packages (from SQLAlchemy<3,>=1.4->langchain_community) (3.2.2)\n",
            "Requirement already satisfied: jsonpointer>=1.9 in /usr/local/lib/python3.11/dist-packages (from jsonpatch<2.0,>=1.33->langchain-core>=0.1->langgraph) (3.0.0)\n",
            "Collecting mypy-extensions>=0.3.0 (from typing-inspect<1,>=0.4.0->dataclasses-json<0.7,>=0.5.7->langchain_community)\n",
            "  Downloading mypy_extensions-1.1.0-py3-none-any.whl.metadata (1.1 kB)\n",
            "Downloading langgraph-0.4.7-py3-none-any.whl (154 kB)\n",
            "\u001b[2K   \u001b[90m━━━━━━━━━━━━━━━━━━━━━━━━━━━━━━━━━━━━━━━━\u001b[0m \u001b[32m154.9/154.9 kB\u001b[0m \u001b[31m11.9 MB/s\u001b[0m eta \u001b[36m0:00:00\u001b[0m\n",
            "\u001b[?25hDownloading langchain_groq-0.3.2-py3-none-any.whl (15 kB)\n",
            "Downloading langchain_community-0.3.24-py3-none-any.whl (2.5 MB)\n",
            "\u001b[2K   \u001b[90m━━━━━━━━━━━━━━━━━━━━━━━━━━━━━━━━━━━━━━━━\u001b[0m \u001b[32m2.5/2.5 MB\u001b[0m \u001b[31m84.4 MB/s\u001b[0m eta \u001b[36m0:00:00\u001b[0m\n",
            "\u001b[?25hDownloading dataclasses_json-0.6.7-py3-none-any.whl (28 kB)\n",
            "Downloading groq-0.26.0-py3-none-any.whl (129 kB)\n",
            "\u001b[2K   \u001b[90m━━━━━━━━━━━━━━━━━━━━━━━━━━━━━━━━━━━━━━━━\u001b[0m \u001b[32m129.6/129.6 kB\u001b[0m \u001b[31m13.1 MB/s\u001b[0m eta \u001b[36m0:00:00\u001b[0m\n",
            "\u001b[?25hDownloading httpx_sse-0.4.0-py3-none-any.whl (7.8 kB)\n",
            "Downloading langgraph_checkpoint-2.0.26-py3-none-any.whl (44 kB)\n",
            "\u001b[2K   \u001b[90m━━━━━━━━━━━━━━━━━━━━━━━━━━━━━━━━━━━━━━━━\u001b[0m \u001b[32m44.2/44.2 kB\u001b[0m \u001b[31m4.0 MB/s\u001b[0m eta \u001b[36m0:00:00\u001b[0m\n",
            "\u001b[?25hDownloading langgraph_prebuilt-0.2.2-py3-none-any.whl (23 kB)\n",
            "Downloading langgraph_sdk-0.1.70-py3-none-any.whl (49 kB)\n",
            "\u001b[2K   \u001b[90m━━━━━━━━━━━━━━━━━━━━━━━━━━━━━━━━━━━━━━━━\u001b[0m \u001b[32m50.0/50.0 kB\u001b[0m \u001b[31m4.6 MB/s\u001b[0m eta \u001b[36m0:00:00\u001b[0m\n",
            "\u001b[?25hDownloading pydantic_settings-2.9.1-py3-none-any.whl (44 kB)\n",
            "\u001b[2K   \u001b[90m━━━━━━━━━━━━━━━━━━━━━━━━━━━━━━━━━━━━━━━━\u001b[0m \u001b[32m44.4/44.4 kB\u001b[0m \u001b[31m3.9 MB/s\u001b[0m eta \u001b[36m0:00:00\u001b[0m\n",
            "\u001b[?25hDownloading marshmallow-3.26.1-py3-none-any.whl (50 kB)\n",
            "\u001b[2K   \u001b[90m━━━━━━━━━━━━━━━━━━━━━━━━━━━━━━━━━━━━━━━━\u001b[0m \u001b[32m50.9/50.9 kB\u001b[0m \u001b[31m4.7 MB/s\u001b[0m eta \u001b[36m0:00:00\u001b[0m\n",
            "\u001b[?25hDownloading ormsgpack-1.10.0-cp311-cp311-manylinux_2_17_x86_64.manylinux2014_x86_64.whl (216 kB)\n",
            "\u001b[2K   \u001b[90m━━━━━━━━━━━━━━━━━━━━━━━━━━━━━━━━━━━━━━━━\u001b[0m \u001b[32m216.5/216.5 kB\u001b[0m \u001b[31m20.7 MB/s\u001b[0m eta \u001b[36m0:00:00\u001b[0m\n",
            "\u001b[?25hDownloading python_dotenv-1.1.0-py3-none-any.whl (20 kB)\n",
            "Downloading typing_inspect-0.9.0-py3-none-any.whl (8.8 kB)\n",
            "Downloading mypy_extensions-1.1.0-py3-none-any.whl (5.0 kB)\n",
            "Installing collected packages: python-dotenv, ormsgpack, mypy-extensions, marshmallow, httpx-sse, typing-inspect, pydantic-settings, langgraph-sdk, groq, dataclasses-json, langgraph-checkpoint, langchain_groq, langgraph-prebuilt, langgraph, langchain_community\n",
            "Successfully installed dataclasses-json-0.6.7 groq-0.26.0 httpx-sse-0.4.0 langchain_community-0.3.24 langchain_groq-0.3.2 langgraph-0.4.7 langgraph-checkpoint-2.0.26 langgraph-prebuilt-0.2.2 langgraph-sdk-0.1.70 marshmallow-3.26.1 mypy-extensions-1.1.0 ormsgpack-1.10.0 pydantic-settings-2.9.1 python-dotenv-1.1.0 typing-inspect-0.9.0\n"
          ]
        }
      ],
      "source": [
        "#pip install langgraph langsmith  langchain_groq langchain_community"
      ]
    },
    {
      "cell_type": "code",
      "source": [
        "groq_api_key = \"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\""
      ],
      "metadata": {
        "id": "QKkXtpOx69RE"
      },
      "execution_count": 2,
      "outputs": []
    },
    {
      "cell_type": "code",
      "source": [
        "from langchain_groq import ChatGroq"
      ],
      "metadata": {
        "id": "xp7NJrwx8Srv"
      },
      "execution_count": 3,
      "outputs": []
    },
    {
      "cell_type": "code",
      "source": [
        "llm = ChatGroq(groq_api_key=groq_api_key,model_name =\"Gemaa2-9b-it\")"
      ],
      "metadata": {
        "id": "qQLCxN8Z8olP"
      },
      "execution_count": 4,
      "outputs": []
    },
    {
      "cell_type": "code",
      "source": [
        "from typing import  Annotated\n",
        "from typing_extensions import TypedDict\n",
        "from langgraph.graph.message import add_messages\n",
        "from langgraph.graph import StateGraph, START, END"
      ],
      "metadata": {
        "id": "-2oQ76yw88pl"
      },
      "execution_count": 6,
      "outputs": []
    },
    {
      "cell_type": "code",
      "source": [
        "class State(TypedDict):\n",
        "  messages: Annotated[list, add_messages]\n",
        "graph_builder = StateGraph(State)\n"
      ],
      "metadata": {
        "id": "uIquWEAY9P0m"
      },
      "execution_count": 7,
      "outputs": []
    },
    {
      "cell_type": "code",
      "source": [
        "graph_builder"
      ],
      "metadata": {
        "colab": {
          "base_uri": "https://localhost:8080/",
          "height": 0
        },
        "id": "e6LkKSxk-HtI",
        "outputId": "4941da5d-551d-47f4-ddbb-eb52927ccdd5"
      },
      "execution_count": 8,
      "outputs": [
        {
          "output_type": "execute_result",
          "data": {
            "text/plain": [
              "<langgraph.graph.state.StateGraph at 0x7da23f976950>"
            ]
          },
          "metadata": {},
          "execution_count": 8
        }
      ]
    },
    {
      "cell_type": "code",
      "source": [
        "def chatboat(state:State):\n",
        "  return{\"messages\":llm.invoke(state['messages'])}"
      ],
      "metadata": {
        "id": "dWycWU2t-Jrk"
      },
      "execution_count": 9,
      "outputs": []
    },
    {
      "cell_type": "code",
      "source": [
        "graph_builder.add_node('chatbot',chatboat)"
      ],
      "metadata": {
        "colab": {
          "base_uri": "https://localhost:8080/",
          "height": 0
        },
        "id": "oYEHWATi-5Uz",
        "outputId": "e5a42cac-11d1-4bb1-b7ec-145be525b1a1"
      },
      "execution_count": 11,
      "outputs": [
        {
          "output_type": "execute_result",
          "data": {
            "text/plain": [
              "<langgraph.graph.state.StateGraph at 0x7da23f976950>"
            ]
          },
          "metadata": {},
          "execution_count": 11
        }
      ]
    },
    {
      "cell_type": "code",
      "source": [
        "graph_builder"
      ],
      "metadata": {
        "colab": {
          "base_uri": "https://localhost:8080/",
          "height": 0
        },
        "id": "YrkQ7R4D_D7q",
        "outputId": "eea22c14-2532-40a9-fa51-3fee3f384ee8"
      },
      "execution_count": 12,
      "outputs": [
        {
          "output_type": "execute_result",
          "data": {
            "text/plain": [
              "<langgraph.graph.state.StateGraph at 0x7da23f976950>"
            ]
          },
          "metadata": {},
          "execution_count": 12
        }
      ]
    },
    {
      "cell_type": "code",
      "source": [
        "graph_builder.add_edge(START,'chatbot')\n",
        "graph_builder.add_edge('chatbot',END)"
      ],
      "metadata": {
        "colab": {
          "base_uri": "https://localhost:8080/",
          "height": 0
        },
        "id": "dJUkg7Sa_GUv",
        "outputId": "2943db10-680c-4b71-91c3-d9ab9fc2213c"
      },
      "execution_count": 13,
      "outputs": [
        {
          "output_type": "execute_result",
          "data": {
            "text/plain": [
              "<langgraph.graph.state.StateGraph at 0x7da23f976950>"
            ]
          },
          "metadata": {},
          "execution_count": 13
        }
      ]
    },
    {
      "cell_type": "code",
      "source": [
        "graph_builder.compile()"
      ],
      "metadata": {
        "colab": {
          "base_uri": "https://localhost:8080/",
          "height": 251
        },
        "id": "QhnwMdT5_U-C",
        "outputId": "bd8e019f-74e2-4434-cbe6-685aa9926e3d"
      },
      "execution_count": 14,
      "outputs": [
        {
          "output_type": "execute_result",
          "data": {
            "text/plain": [
              "<langgraph.graph.state.CompiledStateGraph object at 0x7da23c6d17d0>"
            ],
            "image/png": "[encoded data removed]"
          },
          "metadata": {},
          "execution_count": 14
        }
      ]
    },
    {
      "cell_type": "code",
      "source": [
        "graph = graph_builder.compile()"
      ],
      "metadata": {
        "id": "LVJ0igcP_i9-"
      },
      "execution_count": 15,
      "outputs": []
    },
    {
      "cell_type": "code",
      "source": [
        "from langchain_groq import ChatGroq\n",
        "from typing import  Annotated\n",
        "from typing_extensions import TypedDict\n",
        "from langgraph.graph.message import add_messages\n",
        "from langgraph.graph import StateGraph, START, END\n",
        "\n",
        "# Replace 'Gemaa2-9b-it' with a valid model name, for example 'llama3-8b-8192'\n",
        "llm = ChatGroq(groq_api_key=groq_api_key,model_name =\"llama3-8b-8192\")\n",
        "\n",
        "class State(TypedDict):\n",
        "  messages: Annotated[list, add_messages]\n",
        "graph_builder = StateGraph(State)\n",
        "\n",
        "def chatboat(state:State):\n",
        "  return{\"messages\":llm.invoke(state['messages'])}\n",
        "\n",
        "graph_builder.add_node('chatbot',chatboat)\n",
        "graph_builder.add_edge(START,'chatbot')\n",
        "graph_builder.add_edge('chatbot',END)\n",
        "\n",
        "graph = graph_builder.compile()\n",
        "\n",
        "while True:\n",
        "  user_input = input(\"user:\")\n",
        "  if user_input.lower() in ['quit','q']:\n",
        "    print('Good bye , thank you using lang graph framework')\n",
        "    break\n",
        "  for event in graph.stream({'messages':('user', user_input)}):\n",
        "    print(event.values())\n",
        "    for value in event.values():\n",
        "      # Ensure value['messages'] is a BaseMessage object before accessing .content\n",
        "      if hasattr(value['messages'], 'content'):\n",
        "          print('Assistant:',value['messages'].content)\n",
        "      else:\n",
        "          print('Assistant:', value['messages']) # Print the message as is if it doesn't have a content attribute"
      ],
      "metadata": {
        "colab": {
          "base_uri": "https://localhost:8080/",
          "height": 0
        },
        "id": "2jdnwbAWBy0w",
        "outputId": "f680079a-7313-4587-8eff-dfe2316ccb51"
      },
      "execution_count": 19,
      "outputs": [
        {
          "output_type": "stream",
          "name": "stdout",
          "text": [
            "user:ai explain \n",
            "dict_values([{'messages': AIMessage(content='You want me to explain something about AI (Artificial Intelligence). What would you like me to explain?', additional_kwargs={}, response_metadata={'token_usage': {'completion_tokens': 22, 'prompt_tokens': 13, 'total_tokens': 35, 'completion_time': 0.020155267, 'prompt_time': 0.002377919, 'queue_time': 0.127303068, 'total_time': 0.022533186}, 'model_name': 'llama3-8b-8192', 'system_fingerprint': 'fp_f974fb141b', 'finish_reason': 'stop', 'logprobs': None}, id='run--60283d86-91c5-464c-9b2f-5f63c5089a30-0', usage_metadata={'input_tokens': 13, 'output_tokens': 22, 'total_tokens': 35})}])\n",
            "Assistant: You want me to explain something about AI (Artificial Intelligence). What would you like me to explain?\n",
            "user:yes\n",
            "dict_values([{'messages': AIMessage(content='A simple but effective response!', additional_kwargs={}, response_metadata={'token_usage': {'completion_tokens': 7, 'prompt_tokens': 11, 'total_tokens': 18, 'completion_time': 0.006565685, 'prompt_time': 0.002091804, 'queue_time': 0.128534947, 'total_time': 0.008657489}, 'model_name': 'llama3-8b-8192', 'system_fingerprint': 'fp_f974fb141b', 'finish_reason': 'stop', 'logprobs': None}, id='run--b41fc0a4-c282-47d0-9e59-3f92a4cab416-0', usage_metadata={'input_tokens': 11, 'output_tokens': 7, 'total_tokens': 18})}])\n",
            "Assistant: A simple but effective response!\n",
            "user:ai job market 2025\n",
            "dict_values([{'messages': AIMessage(content=\"The job market for AI professionals is expected to continue growing rapidly in 2025 and beyond. Here are some predictions and trends to watch:\\n\\n**Talent Demand:**\\n\\n* By 2025, the global AI talent gap is expected to reach 1.4 million unfilled positions, up from 300,000 in 2020 (Source: Gartner).\\n* The demand for AI professionals will be driven by industries such as healthcare, finance, and retail, which will require AI expertise to stay competitive.\\n\\n**Job Roles:**\\n\\n* Top AI job roles in 2025:\\n\\t+ AI Engineer: Develop and deploy AI models, algorithms, and systems.\\n\\t+ Machine Learning Engineer: Design and implement machine learning models and systems.\\n\\t+ Data Scientist: Analyze and interpret complex data to inform business decisions.\\n\\t+ AI Researcher: Conduct research and development in AI, including natural language processing, computer vision, and robotics.\\n\\t+ AI Ethicist: Develop and implement AI ethics frameworks and guidelines.\\n\\n**Skills in Demand:**\\n\\n* Programming languages: Python, Java, C++, and R.\\n* Machine learning frameworks: TensorFlow, PyTorch, and Scikit-learn.\\n* Data science tools: Tableau, Power BI, and Excel.\\n* Cloud computing platforms: AWS, Azure, and Google Cloud.\\n* AI-specific skills: natural language processing, computer vision, and deep learning.\\n\\n**Salary Expectations:**\\n\\n* AI professionals' salaries are expected to increase by 10-15% in 2025, with senior-level positions commanding even higher salaries.\\n* Average salaries for AI professionals in the United States:\\n\\t+ AI Engineer: $125,000 - $175,000\\n\\t+ Machine Learning Engineer: $120,000 - $160,000\\n\\t+ Data Scientist: $110,000 - $150,000\\n\\n**Industry Trends:**\\n\\n* AI adoption will continue to spread across industries, with a focus on applications such as chatbots, virtual assistants, and predictive maintenance.\\n* Edge AI will become more prominent, with a focus on deploying AI at the edge of the network, closer to the source of the data.\\n* Explainable AI (XAI) will become a key area of focus, as companies look to improve transparency and trust in AI decision-making.\\n\\n**Challenges:**\\n\\n* The AI talent gap will continue to be a major challenge, with many organizations struggling to find and retain skilled AI professionals.\\n* Bias and ethics in AI will remain a topic of concern, as AI systems are increasingly used to make high-stakes decisions.\\n* The need for ongoing education and training will be critical, as AI continues to evolve and new technologies emerge.\\n\\nOverall, the AI job market in 2025 is expected to be highly competitive, with a growing demand for skilled professionals and a need for ongoing education and training.\", additional_kwargs={}, response_metadata={'token_usage': {'completion_tokens': 578, 'prompt_tokens': 16, 'total_tokens': 594, 'completion_time': 0.527636765, 'prompt_time': 0.00280487, 'queue_time': 0.128452797, 'total_time': 0.530441635}, 'model_name': 'llama3-8b-8192', 'system_fingerprint': 'fp_f974fb141b', 'finish_reason': 'stop', 'logprobs': None}, id='run--0d196936-5760-4b26-9ba9-b55d3f3cf02f-0', usage_metadata={'input_tokens': 16, 'output_tokens': 578, 'total_tokens': 594})}])\n",
            "Assistant: The job market for AI professionals is expected to continue growing rapidly in 2025 and beyond. Here are some predictions and trends to watch:\n",
            "\n",
            "**Talent Demand:**\n",
            "\n",
            "* By 2025, the global AI talent gap is expected to reach 1.4 million unfilled positions, up from 300,000 in 2020 (Source: Gartner).\n",
            "* The demand for AI professionals will be driven by industries such as healthcare, finance, and retail, which will require AI expertise to stay competitive.\n",
            "\n",
            "**Job Roles:**\n",
            "\n",
            "* Top AI job roles in 2025:\n",
            "\t+ AI Engineer: Develop and deploy AI models, algorithms, and systems.\n",
            "\t+ Machine Learning Engineer: Design and implement machine learning models and systems.\n",
            "\t+ Data Scientist: Analyze and interpret complex data to inform business decisions.\n",
            "\t+ AI Researcher: Conduct research and development in AI, including natural language processing, computer vision, and robotics.\n",
            "\t+ AI Ethicist: Develop and implement AI ethics frameworks and guidelines.\n",
            "\n",
            "**Skills in Demand:**\n",
            "\n",
            "* Programming languages: Python, Java, C++, and R.\n",
            "* Machine learning frameworks: TensorFlow, PyTorch, and Scikit-learn.\n",
            "* Data science tools: Tableau, Power BI, and Excel.\n",
            "* Cloud computing platforms: AWS, Azure, and Google Cloud.\n",
            "* AI-specific skills: natural language processing, computer vision, and deep learning.\n",
            "\n",
            "**Salary Expectations:**\n",
            "\n",
            "* AI professionals' salaries are expected to increase by 10-15% in 2025, with senior-level positions commanding even higher salaries.\n",
            "* Average salaries for AI professionals in the United States:\n",
            "\t+ AI Engineer: $125,000 - $175,000\n",
            "\t+ Machine Learning Engineer: $120,000 - $160,000\n",
            "\t+ Data Scientist: $110,000 - $150,000\n",
            "\n",
            "**Industry Trends:**\n",
            "\n",
            "* AI adoption will continue to spread across industries, with a focus on applications such as chatbots, virtual assistants, and predictive maintenance.\n",
            "* Edge AI will become more prominent, with a focus on deploying AI at the edge of the network, closer to the source of the data.\n",
            "* Explainable AI (XAI) will become a key area of focus, as companies look to improve transparency and trust in AI decision-making.\n",
            "\n",
            "**Challenges:**\n",
            "\n",
            "* The AI talent gap will continue to be a major challenge, with many organizations struggling to find and retain skilled AI professionals.\n",
            "* Bias and ethics in AI will remain a topic of concern, as AI systems are increasingly used to make high-stakes decisions.\n",
            "* The need for ongoing education and training will be critical, as AI continues to evolve and new technologies emerge.\n",
            "\n",
            "Overall, the AI job market in 2025 is expected to be highly competitive, with a growing demand for skilled professionals and a need for ongoing education and training.\n",
            "user:ok bye\n",
            "dict_values([{'messages': AIMessage(content='Bye! It was nice chatting with you. Have a great day!', additional_kwargs={}, response_metadata={'token_usage': {'completion_tokens': 16, 'prompt_tokens': 12, 'total_tokens': 28, 'completion_time': 0.014819941, 'prompt_time': 0.002118663, 'queue_time': 0.12735859, 'total_time': 0.016938604}, 'model_name': 'llama3-8b-8192', 'system_fingerprint': 'fp_f974fb141b', 'finish_reason': 'stop', 'logprobs': None}, id='run--ebdd9b4e-23bd-4a0e-af2b-3f68639c8e4f-0', usage_metadata={'input_tokens': 12, 'output_tokens': 16, 'total_tokens': 28})}])\n",
            "Assistant: Bye! It was nice chatting with you. Have a great day!\n",
            "user:q\n",
            "Good bye , thank you using lang graph framework\n"
          ]
        }
      ]
    }
  ]
}